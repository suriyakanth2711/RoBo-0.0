{
  "cells": [
    {
      "cell_type": "markdown",
      "metadata": {
        "id": "view-in-github",
        "colab_type": "text"
      },
      "source": [
        "<a href=\"https://colab.research.google.com/github/suriyakanth2711/RoBo-0.0/blob/main/model.ipynb\" target=\"_parent\"><img src=\"https://colab.research.google.com/assets/colab-badge.svg\" alt=\"Open In Colab\"/></a>"
      ]
    },
    {
      "cell_type": "code",
      "execution_count": 96,
      "metadata": {
        "id": "i9DG-j0HDpjn"
      },
      "outputs": [],
      "source": [
        "import numpy as np\n",
        "import pandas as pd"
      ]
    },
    {
      "cell_type": "code",
      "execution_count": 97,
      "metadata": {
        "colab": {
          "base_uri": "https://localhost:8080/",
          "height": 300
        },
        "id": "r-n7dHMGERQx",
        "outputId": "8a1cc7c3-ac50-4937-ef5f-768f6e4dfd1d"
      },
      "outputs": [
        {
          "output_type": "execute_result",
          "data": {
            "text/html": [
              "\n",
              "  <div id=\"df-75bc2f83-5a27-407a-90db-e17f799fa7db\">\n",
              "    <div class=\"colab-df-container\">\n",
              "      <div>\n",
              "<style scoped>\n",
              "    .dataframe tbody tr th:only-of-type {\n",
              "        vertical-align: middle;\n",
              "    }\n",
              "\n",
              "    .dataframe tbody tr th {\n",
              "        vertical-align: top;\n",
              "    }\n",
              "\n",
              "    .dataframe thead th {\n",
              "        text-align: right;\n",
              "    }\n",
              "</style>\n",
              "<table border=\"1\" class=\"dataframe\">\n",
              "  <thead>\n",
              "    <tr style=\"text-align: right;\">\n",
              "      <th></th>\n",
              "      <th>YY1</th>\n",
              "      <th>Y1</th>\n",
              "      <th>WGT09</th>\n",
              "      <th>AGE07</th>\n",
              "      <th>AGECL07</th>\n",
              "      <th>EDUC07</th>\n",
              "      <th>EDCL07</th>\n",
              "      <th>MARRIED07</th>\n",
              "      <th>KIDS07</th>\n",
              "      <th>LIFECL07</th>\n",
              "      <th>FAMSTRUCT07</th>\n",
              "      <th>RACECL</th>\n",
              "      <th>H_RACECL</th>\n",
              "      <th>RACE</th>\n",
              "      <th>H_RACE</th>\n",
              "      <th>OCCAT107</th>\n",
              "      <th>OCCAT207</th>\n",
              "      <th>INDCAT07</th>\n",
              "      <th>HHEALTH07</th>\n",
              "      <th>SPHEALTH07</th>\n",
              "      <th>INCOME07</th>\n",
              "      <th>WAGEINC07</th>\n",
              "      <th>BUSSEFARMINC07</th>\n",
              "      <th>INTDIVINC07</th>\n",
              "      <th>KGINC07</th>\n",
              "      <th>SSRETINC07</th>\n",
              "      <th>TRANSFOTHINC07</th>\n",
              "      <th>PENACCTWD07</th>\n",
              "      <th>NORMINC07</th>\n",
              "      <th>RISK07</th>\n",
              "      <th>PSAVING07</th>\n",
              "      <th>WSAVED07</th>\n",
              "      <th>SAVED07</th>\n",
              "      <th>SAVRES1</th>\n",
              "      <th>SAVRES2</th>\n",
              "      <th>SAVRES3</th>\n",
              "      <th>SAVRES4</th>\n",
              "      <th>SAVRES5</th>\n",
              "      <th>SAVRES6</th>\n",
              "      <th>SAVRES7</th>\n",
              "      <th>...</th>\n",
              "      <th>ORESREPCT</th>\n",
              "      <th>NNRESREPCT</th>\n",
              "      <th>BUSPCT</th>\n",
              "      <th>OTHNFINPCT</th>\n",
              "      <th>DEBTPCT</th>\n",
              "      <th>MRTHELPCT</th>\n",
              "      <th>RESDBTPCT</th>\n",
              "      <th>OTHLOCPCT</th>\n",
              "      <th>CCBALPCT</th>\n",
              "      <th>INSTALLPCT</th>\n",
              "      <th>ODEBTPCT</th>\n",
              "      <th>TPAYPCT</th>\n",
              "      <th>MORTPAYPCT</th>\n",
              "      <th>CONSPAYPCT</th>\n",
              "      <th>REVPAYPCT</th>\n",
              "      <th>EQUITYPCT</th>\n",
              "      <th>DEQPCT</th>\n",
              "      <th>VOWNPCT</th>\n",
              "      <th>RETEQPCT</th>\n",
              "      <th>NORMINCPCT</th>\n",
              "      <th>CHECKINGPCT</th>\n",
              "      <th>MSAVINGPCT</th>\n",
              "      <th>CALLPCT</th>\n",
              "      <th>HOMEEQPCT</th>\n",
              "      <th>IRAKHPCT</th>\n",
              "      <th>PENEQPCT</th>\n",
              "      <th>VEHINSTPCT</th>\n",
              "      <th>EDNINSTPCT</th>\n",
              "      <th>OTHINSTPCT</th>\n",
              "      <th>HELOCPCT</th>\n",
              "      <th>NHMORTPCT</th>\n",
              "      <th>WAGEINCPCT</th>\n",
              "      <th>BUSSEFARMINCPCT</th>\n",
              "      <th>INTDIVINCPCT</th>\n",
              "      <th>KGINCPCT</th>\n",
              "      <th>SSRETINCPCT</th>\n",
              "      <th>TRANSFOTHINCPCT</th>\n",
              "      <th>PSAVINGPCT</th>\n",
              "      <th>LEVERAGEPCT</th>\n",
              "      <th>I</th>\n",
              "    </tr>\n",
              "  </thead>\n",
              "  <tbody>\n",
              "    <tr>\n",
              "      <th>0</th>\n",
              "      <td>1</td>\n",
              "      <td>11</td>\n",
              "      <td>11668.134198</td>\n",
              "      <td>47</td>\n",
              "      <td>3</td>\n",
              "      <td>12</td>\n",
              "      <td>2</td>\n",
              "      <td>1</td>\n",
              "      <td>0</td>\n",
              "      <td>2</td>\n",
              "      <td>5</td>\n",
              "      <td>2</td>\n",
              "      <td>2</td>\n",
              "      <td>3</td>\n",
              "      <td>3</td>\n",
              "      <td>1</td>\n",
              "      <td>3</td>\n",
              "      <td>1</td>\n",
              "      <td>3</td>\n",
              "      <td>3</td>\n",
              "      <td>56443.744181</td>\n",
              "      <td>56443.744181</td>\n",
              "      <td>0.0</td>\n",
              "      <td>0.0</td>\n",
              "      <td>0.0</td>\n",
              "      <td>0.0</td>\n",
              "      <td>0.0</td>\n",
              "      <td>0</td>\n",
              "      <td>69223.459844</td>\n",
              "      <td>3</td>\n",
              "      <td>5177.988243</td>\n",
              "      <td>1</td>\n",
              "      <td>0</td>\n",
              "      <td>0</td>\n",
              "      <td>0</td>\n",
              "      <td>0</td>\n",
              "      <td>0</td>\n",
              "      <td>0</td>\n",
              "      <td>0</td>\n",
              "      <td>1</td>\n",
              "      <td>...</td>\n",
              "      <td>0.0</td>\n",
              "      <td>7100000.0</td>\n",
              "      <td>0.0</td>\n",
              "      <td>0.0</td>\n",
              "      <td>229.539027</td>\n",
              "      <td>-23.766370</td>\n",
              "      <td>0.0</td>\n",
              "      <td>0.0</td>\n",
              "      <td>-98.841249</td>\n",
              "      <td>3882.428459</td>\n",
              "      <td>0.0</td>\n",
              "      <td>-44.309806</td>\n",
              "      <td>-3.437401</td>\n",
              "      <td>-37.234311</td>\n",
              "      <td>-98.841249</td>\n",
              "      <td>6764000.0</td>\n",
              "      <td>1700000.0</td>\n",
              "      <td>-51.718701</td>\n",
              "      <td>5064000.0</td>\n",
              "      <td>-45.313644</td>\n",
              "      <td>168.22944</td>\n",
              "      <td>1400000.0</td>\n",
              "      <td>0.0</td>\n",
              "      <td>-54.412507</td>\n",
              "      <td>6000000.0</td>\n",
              "      <td>5064000.0</td>\n",
              "      <td>-11.224708</td>\n",
              "      <td>0.0</td>\n",
              "      <td>25000000.0</td>\n",
              "      <td>0.0</td>\n",
              "      <td>-21.052632</td>\n",
              "      <td>-32.931828</td>\n",
              "      <td>0.0</td>\n",
              "      <td>15939.278937</td>\n",
              "      <td>0.0</td>\n",
              "      <td>0.0</td>\n",
              "      <td>0.0</td>\n",
              "      <td>93.125197</td>\n",
              "      <td>270.403054</td>\n",
              "      <td>57</td>\n",
              "    </tr>\n",
              "    <tr>\n",
              "      <th>1</th>\n",
              "      <td>1</td>\n",
              "      <td>12</td>\n",
              "      <td>11823.456494</td>\n",
              "      <td>47</td>\n",
              "      <td>3</td>\n",
              "      <td>12</td>\n",
              "      <td>2</td>\n",
              "      <td>1</td>\n",
              "      <td>0</td>\n",
              "      <td>2</td>\n",
              "      <td>5</td>\n",
              "      <td>2</td>\n",
              "      <td>2</td>\n",
              "      <td>3</td>\n",
              "      <td>3</td>\n",
              "      <td>1</td>\n",
              "      <td>3</td>\n",
              "      <td>1</td>\n",
              "      <td>3</td>\n",
              "      <td>3</td>\n",
              "      <td>56443.744181</td>\n",
              "      <td>56443.744181</td>\n",
              "      <td>0.0</td>\n",
              "      <td>0.0</td>\n",
              "      <td>0.0</td>\n",
              "      <td>0.0</td>\n",
              "      <td>0.0</td>\n",
              "      <td>0</td>\n",
              "      <td>69223.459844</td>\n",
              "      <td>3</td>\n",
              "      <td>5177.988243</td>\n",
              "      <td>1</td>\n",
              "      <td>0</td>\n",
              "      <td>0</td>\n",
              "      <td>0</td>\n",
              "      <td>0</td>\n",
              "      <td>0</td>\n",
              "      <td>0</td>\n",
              "      <td>0</td>\n",
              "      <td>1</td>\n",
              "      <td>...</td>\n",
              "      <td>0.0</td>\n",
              "      <td>5400000.0</td>\n",
              "      <td>0.0</td>\n",
              "      <td>0.0</td>\n",
              "      <td>231.322864</td>\n",
              "      <td>-23.766370</td>\n",
              "      <td>0.0</td>\n",
              "      <td>0.0</td>\n",
              "      <td>-98.841249</td>\n",
              "      <td>4094.744747</td>\n",
              "      <td>0.0</td>\n",
              "      <td>-44.309806</td>\n",
              "      <td>-3.437401</td>\n",
              "      <td>-37.234311</td>\n",
              "      <td>-98.841249</td>\n",
              "      <td>4569000.0</td>\n",
              "      <td>1800000.0</td>\n",
              "      <td>-51.718701</td>\n",
              "      <td>2769000.0</td>\n",
              "      <td>-45.313644</td>\n",
              "      <td>168.22944</td>\n",
              "      <td>1700000.0</td>\n",
              "      <td>0.0</td>\n",
              "      <td>-34.934215</td>\n",
              "      <td>6100000.0</td>\n",
              "      <td>2769000.0</td>\n",
              "      <td>3.109215</td>\n",
              "      <td>0.0</td>\n",
              "      <td>25000000.0</td>\n",
              "      <td>0.0</td>\n",
              "      <td>-21.052632</td>\n",
              "      <td>-32.931828</td>\n",
              "      <td>0.0</td>\n",
              "      <td>15939.278937</td>\n",
              "      <td>0.0</td>\n",
              "      <td>0.0</td>\n",
              "      <td>0.0</td>\n",
              "      <td>93.125197</td>\n",
              "      <td>249.593620</td>\n",
              "      <td>57</td>\n",
              "    </tr>\n",
              "    <tr>\n",
              "      <th>2</th>\n",
              "      <td>1</td>\n",
              "      <td>13</td>\n",
              "      <td>11913.228354</td>\n",
              "      <td>47</td>\n",
              "      <td>3</td>\n",
              "      <td>12</td>\n",
              "      <td>2</td>\n",
              "      <td>1</td>\n",
              "      <td>0</td>\n",
              "      <td>2</td>\n",
              "      <td>5</td>\n",
              "      <td>2</td>\n",
              "      <td>2</td>\n",
              "      <td>3</td>\n",
              "      <td>3</td>\n",
              "      <td>1</td>\n",
              "      <td>3</td>\n",
              "      <td>1</td>\n",
              "      <td>3</td>\n",
              "      <td>3</td>\n",
              "      <td>56443.744181</td>\n",
              "      <td>56443.744181</td>\n",
              "      <td>0.0</td>\n",
              "      <td>0.0</td>\n",
              "      <td>0.0</td>\n",
              "      <td>0.0</td>\n",
              "      <td>0.0</td>\n",
              "      <td>0</td>\n",
              "      <td>69223.459844</td>\n",
              "      <td>3</td>\n",
              "      <td>5177.988243</td>\n",
              "      <td>1</td>\n",
              "      <td>0</td>\n",
              "      <td>0</td>\n",
              "      <td>0</td>\n",
              "      <td>0</td>\n",
              "      <td>0</td>\n",
              "      <td>0</td>\n",
              "      <td>0</td>\n",
              "      <td>1</td>\n",
              "      <td>...</td>\n",
              "      <td>0.0</td>\n",
              "      <td>7100000.0</td>\n",
              "      <td>0.0</td>\n",
              "      <td>0.0</td>\n",
              "      <td>187.072559</td>\n",
              "      <td>-51.718701</td>\n",
              "      <td>0.0</td>\n",
              "      <td>0.0</td>\n",
              "      <td>-98.841249</td>\n",
              "      <td>1802.283191</td>\n",
              "      <td>0.0</td>\n",
              "      <td>-44.309806</td>\n",
              "      <td>-3.437401</td>\n",
              "      <td>-37.234311</td>\n",
              "      <td>-98.841249</td>\n",
              "      <td>5540000.0</td>\n",
              "      <td>1200000.0</td>\n",
              "      <td>-17.232058</td>\n",
              "      <td>4340000.0</td>\n",
              "      <td>-45.313644</td>\n",
              "      <td>172.00732</td>\n",
              "      <td>1100000.0</td>\n",
              "      <td>0.0</td>\n",
              "      <td>-37.567285</td>\n",
              "      <td>6000000.0</td>\n",
              "      <td>4340000.0</td>\n",
              "      <td>-54.689858</td>\n",
              "      <td>0.0</td>\n",
              "      <td>25000000.0</td>\n",
              "      <td>0.0</td>\n",
              "      <td>-50.000000</td>\n",
              "      <td>-32.931828</td>\n",
              "      <td>0.0</td>\n",
              "      <td>15939.278937</td>\n",
              "      <td>0.0</td>\n",
              "      <td>0.0</td>\n",
              "      <td>0.0</td>\n",
              "      <td>93.125197</td>\n",
              "      <td>209.233358</td>\n",
              "      <td>57</td>\n",
              "    </tr>\n",
              "    <tr>\n",
              "      <th>3</th>\n",
              "      <td>1</td>\n",
              "      <td>14</td>\n",
              "      <td>11929.394266</td>\n",
              "      <td>47</td>\n",
              "      <td>3</td>\n",
              "      <td>12</td>\n",
              "      <td>2</td>\n",
              "      <td>1</td>\n",
              "      <td>0</td>\n",
              "      <td>2</td>\n",
              "      <td>5</td>\n",
              "      <td>2</td>\n",
              "      <td>2</td>\n",
              "      <td>3</td>\n",
              "      <td>3</td>\n",
              "      <td>1</td>\n",
              "      <td>3</td>\n",
              "      <td>1</td>\n",
              "      <td>3</td>\n",
              "      <td>3</td>\n",
              "      <td>56443.744181</td>\n",
              "      <td>56443.744181</td>\n",
              "      <td>0.0</td>\n",
              "      <td>0.0</td>\n",
              "      <td>0.0</td>\n",
              "      <td>0.0</td>\n",
              "      <td>0.0</td>\n",
              "      <td>0</td>\n",
              "      <td>69223.459844</td>\n",
              "      <td>3</td>\n",
              "      <td>5177.988243</td>\n",
              "      <td>1</td>\n",
              "      <td>0</td>\n",
              "      <td>0</td>\n",
              "      <td>0</td>\n",
              "      <td>0</td>\n",
              "      <td>0</td>\n",
              "      <td>0</td>\n",
              "      <td>0</td>\n",
              "      <td>1</td>\n",
              "      <td>...</td>\n",
              "      <td>0.0</td>\n",
              "      <td>6100000.0</td>\n",
              "      <td>0.0</td>\n",
              "      <td>0.0</td>\n",
              "      <td>203.042198</td>\n",
              "      <td>-35.624934</td>\n",
              "      <td>0.0</td>\n",
              "      <td>0.0</td>\n",
              "      <td>-98.841249</td>\n",
              "      <td>1965.634921</td>\n",
              "      <td>0.0</td>\n",
              "      <td>-43.527015</td>\n",
              "      <td>-2.114626</td>\n",
              "      <td>-36.170486</td>\n",
              "      <td>-98.841249</td>\n",
              "      <td>3082500.0</td>\n",
              "      <td>1300000.0</td>\n",
              "      <td>-17.232058</td>\n",
              "      <td>1782500.0</td>\n",
              "      <td>-45.313644</td>\n",
              "      <td>172.00732</td>\n",
              "      <td>2300000.0</td>\n",
              "      <td>0.0</td>\n",
              "      <td>-34.519783</td>\n",
              "      <td>5900000.0</td>\n",
              "      <td>1782500.0</td>\n",
              "      <td>-46.085882</td>\n",
              "      <td>0.0</td>\n",
              "      <td>25000000.0</td>\n",
              "      <td>0.0</td>\n",
              "      <td>-33.333333</td>\n",
              "      <td>-32.931828</td>\n",
              "      <td>0.0</td>\n",
              "      <td>15939.278937</td>\n",
              "      <td>0.0</td>\n",
              "      <td>0.0</td>\n",
              "      <td>0.0</td>\n",
              "      <td>93.125197</td>\n",
              "      <td>209.273158</td>\n",
              "      <td>57</td>\n",
              "    </tr>\n",
              "    <tr>\n",
              "      <th>4</th>\n",
              "      <td>1</td>\n",
              "      <td>15</td>\n",
              "      <td>11917.722907</td>\n",
              "      <td>47</td>\n",
              "      <td>3</td>\n",
              "      <td>12</td>\n",
              "      <td>2</td>\n",
              "      <td>1</td>\n",
              "      <td>0</td>\n",
              "      <td>2</td>\n",
              "      <td>5</td>\n",
              "      <td>2</td>\n",
              "      <td>2</td>\n",
              "      <td>3</td>\n",
              "      <td>3</td>\n",
              "      <td>1</td>\n",
              "      <td>3</td>\n",
              "      <td>1</td>\n",
              "      <td>3</td>\n",
              "      <td>3</td>\n",
              "      <td>56443.744181</td>\n",
              "      <td>56443.744181</td>\n",
              "      <td>0.0</td>\n",
              "      <td>0.0</td>\n",
              "      <td>0.0</td>\n",
              "      <td>0.0</td>\n",
              "      <td>0.0</td>\n",
              "      <td>0</td>\n",
              "      <td>69223.459844</td>\n",
              "      <td>3</td>\n",
              "      <td>5177.988243</td>\n",
              "      <td>1</td>\n",
              "      <td>0</td>\n",
              "      <td>0</td>\n",
              "      <td>0</td>\n",
              "      <td>0</td>\n",
              "      <td>0</td>\n",
              "      <td>0</td>\n",
              "      <td>0</td>\n",
              "      <td>1</td>\n",
              "      <td>...</td>\n",
              "      <td>0.0</td>\n",
              "      <td>6100000.0</td>\n",
              "      <td>0.0</td>\n",
              "      <td>0.0</td>\n",
              "      <td>216.890054</td>\n",
              "      <td>-40.707176</td>\n",
              "      <td>0.0</td>\n",
              "      <td>0.0</td>\n",
              "      <td>-98.885816</td>\n",
              "      <td>3969.876080</td>\n",
              "      <td>0.0</td>\n",
              "      <td>-44.733843</td>\n",
              "      <td>-3.437401</td>\n",
              "      <td>-36.170486</td>\n",
              "      <td>-98.885816</td>\n",
              "      <td>4128000.0</td>\n",
              "      <td>1200000.0</td>\n",
              "      <td>-13.783394</td>\n",
              "      <td>2928000.0</td>\n",
              "      <td>-45.313644</td>\n",
              "      <td>168.22944</td>\n",
              "      <td>1500000.0</td>\n",
              "      <td>0.0</td>\n",
              "      <td>-25.816716</td>\n",
              "      <td>6000000.0</td>\n",
              "      <td>2928000.0</td>\n",
              "      <td>12.392533</td>\n",
              "      <td>0.0</td>\n",
              "      <td>25000000.0</td>\n",
              "      <td>0.0</td>\n",
              "      <td>-38.596491</td>\n",
              "      <td>-32.931828</td>\n",
              "      <td>0.0</td>\n",
              "      <td>15939.278937</td>\n",
              "      <td>0.0</td>\n",
              "      <td>0.0</td>\n",
              "      <td>0.0</td>\n",
              "      <td>93.125197</td>\n",
              "      <td>232.690767</td>\n",
              "      <td>57</td>\n",
              "    </tr>\n",
              "  </tbody>\n",
              "</table>\n",
              "<p>5 rows × 515 columns</p>\n",
              "</div>\n",
              "      <button class=\"colab-df-convert\" onclick=\"convertToInteractive('df-75bc2f83-5a27-407a-90db-e17f799fa7db')\"\n",
              "              title=\"Convert this dataframe to an interactive table.\"\n",
              "              style=\"display:none;\">\n",
              "        \n",
              "  <svg xmlns=\"http://www.w3.org/2000/svg\" height=\"24px\"viewBox=\"0 0 24 24\"\n",
              "       width=\"24px\">\n",
              "    <path d=\"M0 0h24v24H0V0z\" fill=\"none\"/>\n",
              "    <path d=\"M18.56 5.44l.94 2.06.94-2.06 2.06-.94-2.06-.94-.94-2.06-.94 2.06-2.06.94zm-11 1L8.5 8.5l.94-2.06 2.06-.94-2.06-.94L8.5 2.5l-.94 2.06-2.06.94zm10 10l.94 2.06.94-2.06 2.06-.94-2.06-.94-.94-2.06-.94 2.06-2.06.94z\"/><path d=\"M17.41 7.96l-1.37-1.37c-.4-.4-.92-.59-1.43-.59-.52 0-1.04.2-1.43.59L10.3 9.45l-7.72 7.72c-.78.78-.78 2.05 0 2.83L4 21.41c.39.39.9.59 1.41.59.51 0 1.02-.2 1.41-.59l7.78-7.78 2.81-2.81c.8-.78.8-2.07 0-2.86zM5.41 20L4 18.59l7.72-7.72 1.47 1.35L5.41 20z\"/>\n",
              "  </svg>\n",
              "      </button>\n",
              "      \n",
              "  <style>\n",
              "    .colab-df-container {\n",
              "      display:flex;\n",
              "      flex-wrap:wrap;\n",
              "      gap: 12px;\n",
              "    }\n",
              "\n",
              "    .colab-df-convert {\n",
              "      background-color: #E8F0FE;\n",
              "      border: none;\n",
              "      border-radius: 50%;\n",
              "      cursor: pointer;\n",
              "      display: none;\n",
              "      fill: #1967D2;\n",
              "      height: 32px;\n",
              "      padding: 0 0 0 0;\n",
              "      width: 32px;\n",
              "    }\n",
              "\n",
              "    .colab-df-convert:hover {\n",
              "      background-color: #E2EBFA;\n",
              "      box-shadow: 0px 1px 2px rgba(60, 64, 67, 0.3), 0px 1px 3px 1px rgba(60, 64, 67, 0.15);\n",
              "      fill: #174EA6;\n",
              "    }\n",
              "\n",
              "    [theme=dark] .colab-df-convert {\n",
              "      background-color: #3B4455;\n",
              "      fill: #D2E3FC;\n",
              "    }\n",
              "\n",
              "    [theme=dark] .colab-df-convert:hover {\n",
              "      background-color: #434B5C;\n",
              "      box-shadow: 0px 1px 3px 1px rgba(0, 0, 0, 0.15);\n",
              "      filter: drop-shadow(0px 1px 2px rgba(0, 0, 0, 0.3));\n",
              "      fill: #FFFFFF;\n",
              "    }\n",
              "  </style>\n",
              "\n",
              "      <script>\n",
              "        const buttonEl =\n",
              "          document.querySelector('#df-75bc2f83-5a27-407a-90db-e17f799fa7db button.colab-df-convert');\n",
              "        buttonEl.style.display =\n",
              "          google.colab.kernel.accessAllowed ? 'block' : 'none';\n",
              "\n",
              "        async function convertToInteractive(key) {\n",
              "          const element = document.querySelector('#df-75bc2f83-5a27-407a-90db-e17f799fa7db');\n",
              "          const dataTable =\n",
              "            await google.colab.kernel.invokeFunction('convertToInteractive',\n",
              "                                                     [key], {});\n",
              "          if (!dataTable) return;\n",
              "\n",
              "          const docLinkHtml = 'Like what you see? Visit the ' +\n",
              "            '<a target=\"_blank\" href=https://colab.research.google.com/notebooks/data_table.ipynb>data table notebook</a>'\n",
              "            + ' to learn more about interactive tables.';\n",
              "          element.innerHTML = '';\n",
              "          dataTable['output_type'] = 'display_data';\n",
              "          await google.colab.output.renderOutput(dataTable, element);\n",
              "          const docLink = document.createElement('div');\n",
              "          docLink.innerHTML = docLinkHtml;\n",
              "          element.appendChild(docLink);\n",
              "        }\n",
              "      </script>\n",
              "    </div>\n",
              "  </div>\n",
              "  "
            ],
            "text/plain": [
              "   YY1  Y1         WGT09  AGE07  ...  TRANSFOTHINCPCT  PSAVINGPCT  LEVERAGEPCT   I\n",
              "0    1  11  11668.134198     47  ...              0.0   93.125197   270.403054  57\n",
              "1    1  12  11823.456494     47  ...              0.0   93.125197   249.593620  57\n",
              "2    1  13  11913.228354     47  ...              0.0   93.125197   209.233358  57\n",
              "3    1  14  11929.394266     47  ...              0.0   93.125197   209.273158  57\n",
              "4    1  15  11917.722907     47  ...              0.0   93.125197   232.690767  57\n",
              "\n",
              "[5 rows x 515 columns]"
            ]
          },
          "metadata": {},
          "execution_count": 97
        }
      ],
      "source": [
        "data = pd.read_excel(\"/content/SCFP2009panel.xlsx\")\n",
        "data.head()"
      ]
    },
    {
      "cell_type": "code",
      "source": [
        "data.shape"
      ],
      "metadata": {
        "colab": {
          "base_uri": "https://localhost:8080/"
        },
        "id": "2kjJBgiM8mu8",
        "outputId": "0cd4cbdc-faa1-4b54-b91c-60a51d2cf2cc"
      },
      "execution_count": 98,
      "outputs": [
        {
          "output_type": "execute_result",
          "data": {
            "text/plain": [
              "(19285, 515)"
            ]
          },
          "metadata": {},
          "execution_count": 98
        }
      ]
    },
    {
      "cell_type": "code",
      "execution_count": 99,
      "metadata": {
        "id": "SeBjdRPj00GD"
      },
      "outputs": [],
      "source": [
        "data['RiskFree07']= data['LIQ07'] + data['CDS07'] + data['SAVBND07'] + data['CASHLI07']\n",
        "data['Risky07'] = data['NMMF07'] + data['STOCKS07'] + data['BOND07'] \n",
        "data['RT07'] = data['Risky07']/(data['Risky07']+data['RiskFree07'])\n",
        "\n",
        "data['RiskFree09']= data['LIQ09'] + data['CDS09'] + data['SAVBND09'] + data['CASHLI09']\n",
        "data['Risky09'] = data['NMMF09'] + data['STOCKS09'] + data['BOND09'] \n",
        "data['RT09'] = data['Risky09']/(data['Risky09'] + data['RiskFree09'])"
      ]
    },
    {
      "cell_type": "code",
      "execution_count": 100,
      "metadata": {
        "id": "MB1TRLm31VNE"
      },
      "outputs": [],
      "source": [
        "data['PercentChange'] = np.abs((data['RT09']/data['RT07'])-1)"
      ]
    },
    {
      "cell_type": "code",
      "execution_count": 101,
      "metadata": {
        "id": "PFTieuG01U1_",
        "colab": {
          "base_uri": "https://localhost:8080/"
        },
        "outputId": "19ef0ebe-bd2b-4a18-c542-d344f810e26a"
      },
      "outputs": [
        {
          "output_type": "execute_result",
          "data": {
            "text/plain": [
              "YY1              False\n",
              "Y1               False\n",
              "WGT09            False\n",
              "AGE07            False\n",
              "AGECL07          False\n",
              "                 ...  \n",
              "RT07              True\n",
              "RiskFree09       False\n",
              "Risky09          False\n",
              "RT09              True\n",
              "PercentChange     True\n",
              "Length: 522, dtype: bool"
            ]
          },
          "metadata": {},
          "execution_count": 101
        }
      ],
      "source": [
        "data.isnull().any()"
      ]
    },
    {
      "cell_type": "code",
      "execution_count": 102,
      "metadata": {
        "id": "lE-LD82mHgtg"
      },
      "outputs": [],
      "source": [
        "data=data[~data.isin([np.nan, np.inf, -np.inf]).any(1)]"
      ]
    },
    {
      "cell_type": "code",
      "execution_count": 103,
      "metadata": {
        "id": "9YScI6dqILIb",
        "colab": {
          "base_uri": "https://localhost:8080/"
        },
        "outputId": "d70e095f-ba4b-468b-f06c-a028a9b07a33"
      },
      "outputs": [
        {
          "output_type": "execute_result",
          "data": {
            "text/plain": [
              "YY1              False\n",
              "Y1               False\n",
              "WGT09            False\n",
              "AGE07            False\n",
              "AGECL07          False\n",
              "                 ...  \n",
              "RT07             False\n",
              "RiskFree09       False\n",
              "Risky09          False\n",
              "RT09             False\n",
              "PercentChange    False\n",
              "Length: 522, dtype: bool"
            ]
          },
          "metadata": {},
          "execution_count": 103
        }
      ],
      "source": [
        "data.isnull().any()\n",
        "#data.isnull().values.any()"
      ]
    },
    {
      "cell_type": "code",
      "execution_count": 104,
      "metadata": {
        "id": "jakU90G9MMRN",
        "colab": {
          "base_uri": "https://localhost:8080/",
          "height": 334
        },
        "outputId": "2a451b25-3943-4c37-cf51-afb89f38ded7"
      },
      "outputs": [
        {
          "output_type": "stream",
          "name": "stderr",
          "text": [
            "/usr/local/lib/python3.7/dist-packages/seaborn/distributions.py:2619: FutureWarning: `distplot` is a deprecated function and will be removed in a future version. Please adapt your code to use either `displot` (a figure-level function with similar flexibility) or `histplot` (an axes-level function for histograms).\n",
            "  warnings.warn(msg, FutureWarning)\n"
          ]
        },
        {
          "output_type": "display_data",
          "data": {
            "image/png": "[encoded data removed]",
            "text/plain": [
              "<Figure size 432x288 with 1 Axes>"
            ]
          },
          "metadata": {
            "needs_background": "light"
          }
        }
      ],
      "source": [
        "import seaborn as sns\n",
        "\n",
        "#RT07\n",
        "ax = sns.distplot(data['RT07'], color='yellow', kde_kws={\"color\": \"k\", \"lw\": 2})"
      ]
    },
    {
      "cell_type": "code",
      "execution_count": 105,
      "metadata": {
        "id": "-xKHA-ygOYZv",
        "colab": {
          "base_uri": "https://localhost:8080/",
          "height": 337
        },
        "outputId": "63da44e1-8caf-4d23-ef06-9bb9b5669f8d"
      },
      "outputs": [
        {
          "output_type": "stream",
          "name": "stderr",
          "text": [
            "/usr/local/lib/python3.7/dist-packages/seaborn/distributions.py:2619: FutureWarning: `distplot` is a deprecated function and will be removed in a future version. Please adapt your code to use either `displot` (a figure-level function with similar flexibility) or `histplot` (an axes-level function for histograms).\n",
            "  warnings.warn(msg, FutureWarning)\n"
          ]
        },
        {
          "output_type": "display_data",
          "data": {
            "image/png": "[encoded data removed]",
            "text/plain": [
              "<Figure size 432x288 with 1 Axes>"
            ]
          },
          "metadata": {
            "needs_background": "light"
          }
        }
      ],
      "source": [
        "#RT09\n",
        "ax1 = sns.distplot(data['RT09'], color='yellow', kde_kws={\"color\": \"k\", \"lw\": 2})"
      ]
    },
    {
      "cell_type": "code",
      "execution_count": 106,
      "metadata": {
        "id": "LYzZrT6fO23k",
        "colab": {
          "base_uri": "https://localhost:8080/"
        },
        "outputId": "642cdded-b0a5-44d5-d96b-1bed83df4fa5"
      },
      "outputs": [
        {
          "output_type": "stream",
          "name": "stdout",
          "text": [
            "<class 'pandas.core.frame.DataFrame'>\n",
            "Int64Index: 1956 entries, 40 to 19278\n",
            "Columns: 522 entries, YY1 to PercentChange\n",
            "dtypes: float64(217), int64(305)\n",
            "memory usage: 7.8 MB\n"
          ]
        }
      ],
      "source": [
        "#extracting investors only whose tolerance level has changed less than 10% from 2007 to 2009\n",
        "\n",
        "data = data[data['PercentChange']<=0.1]\n",
        "data.info()"
      ]
    },
    {
      "cell_type": "code",
      "execution_count": 107,
      "metadata": {
        "id": "i-VGRi7bQe26",
        "colab": {
          "base_uri": "https://localhost:8080/"
        },
        "outputId": "878d1c94-834b-4e9a-f73d-a8cb8c206b0f"
      },
      "outputs": [
        {
          "output_type": "stream",
          "name": "stderr",
          "text": [
            "/usr/local/lib/python3.7/dist-packages/ipykernel_launcher.py:1: SettingWithCopyWarning: \n",
            "A value is trying to be set on a copy of a slice from a DataFrame.\n",
            "Try using .loc[row_indexer,col_indexer] = value instead\n",
            "\n",
            "See the caveats in the documentation: https://pandas.pydata.org/pandas-docs/stable/user_guide/indexing.html#returning-a-view-versus-a-copy\n",
            "  \"\"\"Entry point for launching an IPython kernel.\n"
          ]
        }
      ],
      "source": [
        "data['AverageRiskTolerance'] = (data['RT07']+data['RT09'])/2"
      ]
    },
    {
      "cell_type": "code",
      "execution_count": 108,
      "metadata": {
        "id": "BNE6LdMIRtUj"
      },
      "outputs": [],
      "source": [
        "data = data.drop(labels = ['RT07', 'RT09', 'PercentChange'], axis=1)"
      ]
    },
    {
      "cell_type": "code",
      "execution_count": 109,
      "metadata": {
        "id": "Ulp55XyrSzIj"
      },
      "outputs": [],
      "source": [
        "features = ['AGE07','EDCL07','MARRIED07','KIDS07','OCCAT107','INCOME07','RISK07','NETWORTH07','AverageRiskTolerance']\n",
        "\n",
        "drop_features = [col for col in data.columns if col not in features]\n",
        "\n",
        "data = data.drop(labels=drop_features, axis=1)"
      ]
    },
    {
      "cell_type": "code",
      "execution_count": 110,
      "metadata": {
        "id": "0QFuk36tT0ye",
        "colab": {
          "base_uri": "https://localhost:8080/",
          "height": 206
        },
        "outputId": "2e45f36d-f7ff-4e87-b806-1c1975c637f4"
      },
      "outputs": [
        {
          "output_type": "execute_result",
          "data": {
            "text/html": [
              "\n",
              "  <div id=\"df-598720a5-fe15-4703-8da8-93f0f3135a47\">\n",
              "    <div class=\"colab-df-container\">\n",
              "      <div>\n",
              "<style scoped>\n",
              "    .dataframe tbody tr th:only-of-type {\n",
              "        vertical-align: middle;\n",
              "    }\n",
              "\n",
              "    .dataframe tbody tr th {\n",
              "        vertical-align: top;\n",
              "    }\n",
              "\n",
              "    .dataframe thead th {\n",
              "        text-align: right;\n",
              "    }\n",
              "</style>\n",
              "<table border=\"1\" class=\"dataframe\">\n",
              "  <thead>\n",
              "    <tr style=\"text-align: right;\">\n",
              "      <th></th>\n",
              "      <th>AGE07</th>\n",
              "      <th>EDCL07</th>\n",
              "      <th>MARRIED07</th>\n",
              "      <th>KIDS07</th>\n",
              "      <th>OCCAT107</th>\n",
              "      <th>INCOME07</th>\n",
              "      <th>RISK07</th>\n",
              "      <th>NETWORTH07</th>\n",
              "      <th>AverageRiskTolerance</th>\n",
              "    </tr>\n",
              "  </thead>\n",
              "  <tbody>\n",
              "    <tr>\n",
              "      <th>40</th>\n",
              "      <td>65</td>\n",
              "      <td>4</td>\n",
              "      <td>1</td>\n",
              "      <td>0</td>\n",
              "      <td>3</td>\n",
              "      <td>55378.767875</td>\n",
              "      <td>3</td>\n",
              "      <td>1.024620e+06</td>\n",
              "      <td>0.840871</td>\n",
              "    </tr>\n",
              "    <tr>\n",
              "      <th>41</th>\n",
              "      <td>65</td>\n",
              "      <td>4</td>\n",
              "      <td>1</td>\n",
              "      <td>0</td>\n",
              "      <td>3</td>\n",
              "      <td>55378.767875</td>\n",
              "      <td>3</td>\n",
              "      <td>2.091286e+06</td>\n",
              "      <td>0.840871</td>\n",
              "    </tr>\n",
              "    <tr>\n",
              "      <th>42</th>\n",
              "      <td>65</td>\n",
              "      <td>4</td>\n",
              "      <td>1</td>\n",
              "      <td>0</td>\n",
              "      <td>3</td>\n",
              "      <td>54313.791570</td>\n",
              "      <td>3</td>\n",
              "      <td>1.449215e+06</td>\n",
              "      <td>0.840871</td>\n",
              "    </tr>\n",
              "    <tr>\n",
              "      <th>43</th>\n",
              "      <td>65</td>\n",
              "      <td>4</td>\n",
              "      <td>1</td>\n",
              "      <td>0</td>\n",
              "      <td>3</td>\n",
              "      <td>55378.767875</td>\n",
              "      <td>3</td>\n",
              "      <td>1.894419e+06</td>\n",
              "      <td>0.840871</td>\n",
              "    </tr>\n",
              "    <tr>\n",
              "      <th>44</th>\n",
              "      <td>65</td>\n",
              "      <td>4</td>\n",
              "      <td>1</td>\n",
              "      <td>0</td>\n",
              "      <td>3</td>\n",
              "      <td>54313.791570</td>\n",
              "      <td>3</td>\n",
              "      <td>1.677047e+06</td>\n",
              "      <td>0.840871</td>\n",
              "    </tr>\n",
              "  </tbody>\n",
              "</table>\n",
              "</div>\n",
              "      <button class=\"colab-df-convert\" onclick=\"convertToInteractive('df-598720a5-fe15-4703-8da8-93f0f3135a47')\"\n",
              "              title=\"Convert this dataframe to an interactive table.\"\n",
              "              style=\"display:none;\">\n",
              "        \n",
              "  <svg xmlns=\"http://www.w3.org/2000/svg\" height=\"24px\"viewBox=\"0 0 24 24\"\n",
              "       width=\"24px\">\n",
              "    <path d=\"M0 0h24v24H0V0z\" fill=\"none\"/>\n",
              "    <path d=\"M18.56 5.44l.94 2.06.94-2.06 2.06-.94-2.06-.94-.94-2.06-.94 2.06-2.06.94zm-11 1L8.5 8.5l.94-2.06 2.06-.94-2.06-.94L8.5 2.5l-.94 2.06-2.06.94zm10 10l.94 2.06.94-2.06 2.06-.94-2.06-.94-.94-2.06-.94 2.06-2.06.94z\"/><path d=\"M17.41 7.96l-1.37-1.37c-.4-.4-.92-.59-1.43-.59-.52 0-1.04.2-1.43.59L10.3 9.45l-7.72 7.72c-.78.78-.78 2.05 0 2.83L4 21.41c.39.39.9.59 1.41.59.51 0 1.02-.2 1.41-.59l7.78-7.78 2.81-2.81c.8-.78.8-2.07 0-2.86zM5.41 20L4 18.59l7.72-7.72 1.47 1.35L5.41 20z\"/>\n",
              "  </svg>\n",
              "      </button>\n",
              "      \n",
              "  <style>\n",
              "    .colab-df-container {\n",
              "      display:flex;\n",
              "      flex-wrap:wrap;\n",
              "      gap: 12px;\n",
              "    }\n",
              "\n",
              "    .colab-df-convert {\n",
              "      background-color: #E8F0FE;\n",
              "      border: none;\n",
              "      border-radius: 50%;\n",
              "      cursor: pointer;\n",
              "      display: none;\n",
              "      fill: #1967D2;\n",
              "      height: 32px;\n",
              "      padding: 0 0 0 0;\n",
              "      width: 32px;\n",
              "    }\n",
              "\n",
              "    .colab-df-convert:hover {\n",
              "      background-color: #E2EBFA;\n",
              "      box-shadow: 0px 1px 2px rgba(60, 64, 67, 0.3), 0px 1px 3px 1px rgba(60, 64, 67, 0.15);\n",
              "      fill: #174EA6;\n",
              "    }\n",
              "\n",
              "    [theme=dark] .colab-df-convert {\n",
              "      background-color: #3B4455;\n",
              "      fill: #D2E3FC;\n",
              "    }\n",
              "\n",
              "    [theme=dark] .colab-df-convert:hover {\n",
              "      background-color: #434B5C;\n",
              "      box-shadow: 0px 1px 3px 1px rgba(0, 0, 0, 0.15);\n",
              "      filter: drop-shadow(0px 1px 2px rgba(0, 0, 0, 0.3));\n",
              "      fill: #FFFFFF;\n",
              "    }\n",
              "  </style>\n",
              "\n",
              "      <script>\n",
              "        const buttonEl =\n",
              "          document.querySelector('#df-598720a5-fe15-4703-8da8-93f0f3135a47 button.colab-df-convert');\n",
              "        buttonEl.style.display =\n",
              "          google.colab.kernel.accessAllowed ? 'block' : 'none';\n",
              "\n",
              "        async function convertToInteractive(key) {\n",
              "          const element = document.querySelector('#df-598720a5-fe15-4703-8da8-93f0f3135a47');\n",
              "          const dataTable =\n",
              "            await google.colab.kernel.invokeFunction('convertToInteractive',\n",
              "                                                     [key], {});\n",
              "          if (!dataTable) return;\n",
              "\n",
              "          const docLinkHtml = 'Like what you see? Visit the ' +\n",
              "            '<a target=\"_blank\" href=https://colab.research.google.com/notebooks/data_table.ipynb>data table notebook</a>'\n",
              "            + ' to learn more about interactive tables.';\n",
              "          element.innerHTML = '';\n",
              "          dataTable['output_type'] = 'display_data';\n",
              "          await google.colab.output.renderOutput(dataTable, element);\n",
              "          const docLink = document.createElement('div');\n",
              "          docLink.innerHTML = docLinkHtml;\n",
              "          element.appendChild(docLink);\n",
              "        }\n",
              "      </script>\n",
              "    </div>\n",
              "  </div>\n",
              "  "
            ],
            "text/plain": [
              "    AGE07  EDCL07  MARRIED07  ...  RISK07    NETWORTH07  AverageRiskTolerance\n",
              "40     65       4          1  ...       3  1.024620e+06              0.840871\n",
              "41     65       4          1  ...       3  2.091286e+06              0.840871\n",
              "42     65       4          1  ...       3  1.449215e+06              0.840871\n",
              "43     65       4          1  ...       3  1.894419e+06              0.840871\n",
              "44     65       4          1  ...       3  1.677047e+06              0.840871\n",
              "\n",
              "[5 rows x 9 columns]"
            ]
          },
          "metadata": {},
          "execution_count": 110
        }
      ],
      "source": [
        "data.head()"
      ]
    },
    {
      "cell_type": "code",
      "source": [
        "data.shape"
      ],
      "metadata": {
        "colab": {
          "base_uri": "https://localhost:8080/"
        },
        "id": "Z14ZaCqN8WxN",
        "outputId": "dff430ba-b1ca-493b-bc52-84bc33aa3870"
      },
      "execution_count": 111,
      "outputs": [
        {
          "output_type": "execute_result",
          "data": {
            "text/plain": [
              "(1956, 9)"
            ]
          },
          "metadata": {},
          "execution_count": 111
        }
      ]
    },
    {
      "cell_type": "code",
      "execution_count": 112,
      "metadata": {
        "id": "RZ7s9INbT7Gs"
      },
      "outputs": [],
      "source": [
        "#Train test split\n",
        "from sklearn.model_selection import train_test_split\n",
        "\n",
        "X = data.drop(labels = ['AverageRiskTolerance'], axis=1)\n",
        "y = data['AverageRiskTolerance']\n",
        "\n",
        "X_train, X_test, y_train, y_test = train_test_split(X, y, test_size=0.3)\n"
      ]
    },
    {
      "cell_type": "code",
      "execution_count": 113,
      "metadata": {
        "id": "bVs7vK8xlQzu"
      },
      "outputs": [],
      "source": [
        "from sklearn.linear_model import LinearRegression\n",
        "from sklearn.tree import DecisionTreeRegressor\n",
        "from sklearn.neighbors import KNeighborsRegressor\n",
        "from sklearn.svm import SVR\n",
        "from sklearn.ensemble import RandomForestRegressor"
      ]
    },
    {
      "cell_type": "code",
      "execution_count": 114,
      "metadata": {
        "id": "7yFjY3ZJmZA_"
      },
      "outputs": [],
      "source": [
        "models = []\n",
        "models.append(('LR', LinearRegression()))\n",
        "models.append(('KNN', KNeighborsRegressor()))\n",
        "models.append(('CART', DecisionTreeRegressor()))\n",
        "models.append(('SVR', SVR()))\n",
        "models.append(('RFR', RandomForestRegressor()))"
      ]
    },
    {
      "cell_type": "code",
      "source": [
        "from sklearn.model_selection import KFold\n",
        "from sklearn.model_selection import cross_val_score\n",
        "\n",
        "results = []\n",
        "names = []\n",
        "for name, model in models:\n",
        "  kf = KFold(10)\n",
        "  cv_results = -1*cross_val_score(model, X_train, y_train, cv=kf, scoring='r2')\n",
        "  results.append(cv_results)\n",
        "  names.append(name)\n",
        "  print(name, \"=\", cv_results.mean())"
      ],
      "metadata": {
        "id": "fYBwlz9NX81i",
        "colab": {
          "base_uri": "https://localhost:8080/"
        },
        "outputId": "384e08fc-e058-45eb-866c-40dce8761ccf"
      },
      "execution_count": 115,
      "outputs": [
        {
          "output_type": "stream",
          "name": "stdout",
          "text": [
            "LR = -0.11017178236349397\n",
            "KNN = -0.2896993185526052\n",
            "CART = -0.5886054220632961\n",
            "SVR = -0.0707842876622374\n",
            "RFR = -0.7284221909129724\n"
          ]
        }
      ]
    },
    {
      "cell_type": "code",
      "source": [
        "import matplotlib.pyplot as plt\n",
        "\n",
        "fig = plt.figure()\n",
        "fig.suptitle('Comparison between different MLAs')\n",
        "ax = fig.add_subplot(111)\n",
        "plt.boxplot(results)\n",
        "ax.set_xticklabels(names)\n",
        "plt.show()"
      ],
      "metadata": {
        "id": "TBJ56kYIdTzP",
        "colab": {
          "base_uri": "https://localhost:8080/",
          "height": 294
        },
        "outputId": "2cd3e8da-2f13-4eb4-8307-56cb275275f5"
      },
      "execution_count": 116,
      "outputs": [
        {
          "output_type": "display_data",
          "data": {
            "image/png": "[encoded data removed]",
            "text/plain": [
              "<Figure size 432x288 with 1 Axes>"
            ]
          },
          "metadata": {
            "needs_background": "light"
          }
        }
      ]
    },
    {
      "cell_type": "code",
      "source": [
        "from sklearn.model_selection import GridSearchCV\n",
        "\n",
        "param_grid = {'n_estimators': [50,100,150,200,250,300,350,400,500,600]}\n",
        "model = RandomForestRegressor()\n",
        "kf = KFold(n_splits=10)\n",
        "grid = GridSearchCV(estimator=model, param_grid=param_grid, scoring='r2', cv=kf)\n",
        "grid_result = grid.fit(X_train, y_train)\n",
        "print(\"Best: %f using %s\" % (grid_result.best_score_, grid_result.best_params_))\n",
        "means = grid_result.cv_results_['mean_test_score']\n",
        "stds = grid_result.cv_results_['std_test_score']\n",
        "params = grid_result.cv_results_['params']\n",
        "for mean, stdev, param in zip(means, stds, params):\n",
        "    print(\"%f (%f) with: %r\" % (mean, stdev, param))"
      ],
      "metadata": {
        "id": "6BBYiOTal6k7",
        "colab": {
          "base_uri": "https://localhost:8080/"
        },
        "outputId": "fcc17287-783a-4e44-ab19-3e9fff150202"
      },
      "execution_count": 117,
      "outputs": [
        {
          "output_type": "stream",
          "name": "stdout",
          "text": [
            "Best: 0.725502 using {'n_estimators': 200}\n",
            "0.719854 (0.101313) with: {'n_estimators': 50}\n",
            "0.721520 (0.104268) with: {'n_estimators': 100}\n",
            "0.724504 (0.097574) with: {'n_estimators': 150}\n",
            "0.725502 (0.097464) with: {'n_estimators': 200}\n",
            "0.720868 (0.098750) with: {'n_estimators': 250}\n",
            "0.720772 (0.103563) with: {'n_estimators': 300}\n",
            "0.723905 (0.102063) with: {'n_estimators': 350}\n",
            "0.725419 (0.099466) with: {'n_estimators': 400}\n",
            "0.724408 (0.097397) with: {'n_estimators': 500}\n",
            "0.725019 (0.100925) with: {'n_estimators': 600}\n"
          ]
        }
      ]
    },
    {
      "cell_type": "code",
      "source": [
        "model = RandomForestRegressor(n_estimators = 600)\n",
        "model.fit(X_train, y_train)"
      ],
      "metadata": {
        "id": "utQjcQ_xPRxc",
        "colab": {
          "base_uri": "https://localhost:8080/"
        },
        "outputId": "5831a810-d68a-42ea-fd0a-304eb18c1283"
      },
      "execution_count": 118,
      "outputs": [
        {
          "output_type": "execute_result",
          "data": {
            "text/plain": [
              "RandomForestRegressor(n_estimators=400)"
            ]
          },
          "metadata": {},
          "execution_count": 118
        }
      ]
    },
    {
      "cell_type": "code",
      "source": [
        "predictions_train = model.predict(X_train)\n",
        "print(r2_score(y_train, predictions_train))"
      ],
      "metadata": {
        "colab": {
          "base_uri": "https://localhost:8080/"
        },
        "id": "a2ifAJM6m6u3",
        "outputId": "15db31e7-331d-4702-f22d-b1e7df54f224"
      },
      "execution_count": 119,
      "outputs": [
        {
          "output_type": "stream",
          "name": "stdout",
          "text": [
            "0.9663488816844056\n"
          ]
        }
      ]
    },
    {
      "cell_type": "code",
      "source": [
        "predictions = model.predict(X_test)\n",
        "print(mean_squared_error(y_test, predictions))\n",
        "print(r2_score(y_test, predictions))"
      ],
      "metadata": {
        "id": "Y8L5PJYVPRum",
        "colab": {
          "base_uri": "https://localhost:8080/"
        },
        "outputId": "cae94caf-fe43-46d3-ace4-bc6eae10a04b"
      },
      "execution_count": 120,
      "outputs": [
        {
          "output_type": "stream",
          "name": "stdout",
          "text": [
            "0.00890778687628491\n",
            "0.7525678461560867\n"
          ]
        }
      ]
    },
    {
      "cell_type": "code",
      "source": [
        "from pickle import dump\n",
        "from pickle import load\n",
        "\n",
        "filename = 'model.sav'\n",
        "dump(model, open(filename, 'wb'))"
      ],
      "metadata": {
        "id": "bzsiGF1zPRl2"
      },
      "execution_count": 121,
      "outputs": []
    },
    {
      "cell_type": "code",
      "source": [
        "loaded_model = load(open(filename, 'rb'))"
      ],
      "metadata": {
        "id": "azX28RMzPTgo"
      },
      "execution_count": 122,
      "outputs": []
    },
    {
      "cell_type": "code",
      "source": [
        "from sklearn.metrics import mean_squared_error\n",
        "from sklearn.metrics import r2_score\n",
        "\n",
        "predictions = loaded_model.predict(X_test)\n",
        "result = mean_squared_error(y_test, predictions)\n",
        "print(\"R2 score = \",r2_score(y_test, predictions))\n",
        "print(\"MSE = \",result)"
      ],
      "metadata": {
        "colab": {
          "base_uri": "https://localhost:8080/"
        },
        "id": "_L1NUjOykD51",
        "outputId": "fff5b2a6-e36f-4637-fe65-4a93eeb255b0"
      },
      "execution_count": 123,
      "outputs": [
        {
          "output_type": "stream",
          "name": "stdout",
          "text": [
            "R2 score =  0.7525678461560867\n",
            "MSE =  0.00890778687628491\n"
          ]
        }
      ]
    }
  ],
  "metadata": {
    "colab": {
      "collapsed_sections": [],
      "name": "0.0.ipynb",
      "provenance": [],
      "authorship_tag": "ABX9TyOWR6JWrmLfu457Sog6lxlR",
      "include_colab_link": true
    },
    "kernelspec": {
      "display_name": "Python 3",
      "name": "python3"
    },
    "language_info": {
      "name": "python"
    }
  },
  "nbformat": 4,
  "nbformat_minor": 0
}